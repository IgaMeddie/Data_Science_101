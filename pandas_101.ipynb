{
 "cells": [
  {
   "cell_type": "code",
   "execution_count": 4,
   "metadata": {},
   "outputs": [],
   "source": [
    "class Book:\n",
    "    def __init__(self, author, title):\n",
    "        self.author = author\n",
    "        self.title = title\n",
    "\n",
    "    def bookdesc(self):\n",
    "        return \"Book '{}' by {}\".format(self.title, self.author)"
   ]
  },
  {
   "cell_type": "code",
   "execution_count": 12,
   "metadata": {},
   "outputs": [
    {
     "name": "stdout",
     "output_type": "stream",
     "text": [
      "<class '__main__.Book'>\n",
      "George R.R. Martin\n",
      "A Game of Thrones\n",
      "<bound method Book.bookdesc of <__main__.Book object at 0x000001A172A48B30>>\n",
      "Book 'A Game of Thrones' by George R.R. Martin\n"
     ]
    }
   ],
   "source": [
    "bookA = Book(\"George R.R. Martin\", \"A Game of Thrones\")\n",
    "\n",
    "# The code within the function initialized attributes author and title of a new object. These are called instance attributes.\n",
    "\n",
    "print(type(bookA))\n",
    "#  In Python, when you define classes or functions at the top level of a script (not within another class or function), they belong to the __main__ module.\n",
    "\n",
    "print(bookA.author)\n",
    "print(bookA.title)\n",
    "print(bookA.bookdesc)\n",
    "print(bookA.bookdesc())"
   ]
  },
  {
   "cell_type": "markdown",
   "metadata": {},
   "source": [
    "# Object identity id( )\n",
    "\n",
    "Object identity is an identity number for the object. Each distinct object in the computer's memory will have its own identity number."
   ]
  },
  {
   "cell_type": "code",
   "execution_count": 15,
   "metadata": {},
   "outputs": [
    {
     "data": {
      "text/plain": [
       "1792924748592"
      ]
     },
     "execution_count": 15,
     "metadata": {},
     "output_type": "execute_result"
    }
   ],
   "source": [
    "id(bookA)"
   ]
  },
  {
   "cell_type": "markdown",
   "metadata": {},
   "source": [
    "Multiple variables can point to the same object. Let's illustrate this with a simple example."
   ]
  },
  {
   "cell_type": "code",
   "execution_count": null,
   "metadata": {},
   "outputs": [],
   "source": [
    "listobjA = [22, 33]\n",
    "\n",
    "print(id(listobjA))\n",
    "\n",
    "listobjB = listobjA\n",
    "\n",
    "print(listobjB)\n",
    "\n",
    "print(id(listobjB))\n",
    "\n",
    "# Also confirms listobjA and listobjB are pointing to the same object\n",
    "print(listobjA is listobjB)\n",
    "\n",
    "# We can also validate the equality of these two objects by using the operator == :\n",
    "print(listobjA == listobjB)"
   ]
  },
  {
   "cell_type": "markdown",
   "metadata": {},
   "source": [
    "Let's create another list object, name it listobjC and it will be a copy of listobjA."
   ]
  },
  {
   "cell_type": "code",
   "execution_count": 21,
   "metadata": {},
   "outputs": [
    {
     "name": "stdout",
     "output_type": "stream",
     "text": [
      "[22, 33]\n",
      "1792930878848\n",
      "False\n",
      "True\n"
     ]
    }
   ],
   "source": [
    "listobjC = list(listobjA)\n",
    "\n",
    "print(listobjC)\n",
    "print(id(listobjC))\n",
    "print(listobjC is listobjA)\n",
    "print(listobjC == listobjA)"
   ]
  },
  {
   "cell_type": "code",
   "execution_count": 28,
   "metadata": {},
   "outputs": [
    {
     "name": "stdout",
     "output_type": "stream",
     "text": [
      "[22, 33, 44]\n",
      "1792930815424\n",
      "[22, 33, 44]\n"
     ]
    }
   ],
   "source": [
    "# Now let's add a third integer, 44, to the end of the original list object \n",
    "#! Don't run code/cell again as it will append another 44\n",
    "\n",
    "listobjA.append(44)\n",
    "\n",
    "print(listobjA)\n",
    "print(id(listobjA)) # The id of the listobjA didn't change\n",
    "print(listobjB)\n"
   ]
  },
  {
   "cell_type": "code",
   "execution_count": 29,
   "metadata": {},
   "outputs": [
    {
     "data": {
      "text/plain": [
       "[22, 33]"
      ]
     },
     "execution_count": 29,
     "metadata": {},
     "output_type": "execute_result"
    }
   ],
   "source": [
    "listobjC\n",
    "# listobjC didn't change because it is a separate object with its own ID."
   ]
  }
 ],
 "metadata": {
  "kernelspec": {
   "display_name": "Python 3",
   "language": "python",
   "name": "python3"
  },
  "language_info": {
   "codemirror_mode": {
    "name": "ipython",
    "version": 3
   },
   "file_extension": ".py",
   "mimetype": "text/x-python",
   "name": "python",
   "nbconvert_exporter": "python",
   "pygments_lexer": "ipython3",
   "version": "3.12.1"
  }
 },
 "nbformat": 4,
 "nbformat_minor": 2
}
