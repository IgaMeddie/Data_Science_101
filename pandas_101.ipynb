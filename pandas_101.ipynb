{
 "cells": [
  {
   "cell_type": "code",
   "execution_count": 4,
   "metadata": {},
   "outputs": [],
   "source": [
    "class Book:\n",
    "    def __init__(self, author, title):\n",
    "        self.author = author\n",
    "        self.title = title\n",
    "\n",
    "    def bookdesc(self):\n",
    "        return \"Book '{}' by {}\".format(self.title, self.author)"
   ]
  },
  {
   "cell_type": "code",
   "execution_count": 12,
   "metadata": {},
   "outputs": [
    {
     "name": "stdout",
     "output_type": "stream",
     "text": [
      "<class '__main__.Book'>\n",
      "George R.R. Martin\n",
      "A Game of Thrones\n",
      "<bound method Book.bookdesc of <__main__.Book object at 0x000001A172A48B30>>\n",
      "Book 'A Game of Thrones' by George R.R. Martin\n"
     ]
    }
   ],
   "source": [
    "bookA = Book(\"George R.R. Martin\", \"A Game of Thrones\")\n",
    "\n",
    "# The code within the function initialized attributes author and title of a new object. These are called instance attributes.\n",
    "\n",
    "print(type(bookA))\n",
    "#  In Python, when you define classes or functions at the top level of a script (not within another class or function), they belong to the __main__ module.\n",
    "\n",
    "print(bookA.author)\n",
    "print(bookA.title)\n",
    "print(bookA.bookdesc)\n",
    "print(bookA.bookdesc())"
   ]
  },
  {
   "cell_type": "markdown",
   "metadata": {},
   "source": [
    "# Object identity id( )\n",
    "\n",
    "Object identity is an identity number for the object. Each distinct object in the computer's memory will have its own identity number."
   ]
  },
  {
   "cell_type": "code",
   "execution_count": 15,
   "metadata": {},
   "outputs": [
    {
     "data": {
      "text/plain": [
       "1792924748592"
      ]
     },
     "execution_count": 15,
     "metadata": {},
     "output_type": "execute_result"
    }
   ],
   "source": [
    "id(bookA)"
   ]
  },
  {
   "cell_type": "markdown",
   "metadata": {},
   "source": [
    "Multiple variables can point to the same object. Let's illustrate this with a simple example."
   ]
  },
  {
   "cell_type": "code",
   "execution_count": null,
   "metadata": {},
   "outputs": [],
   "source": [
    "listobjA = [22, 33]\n",
    "\n",
    "print(id(listobjA))\n",
    "\n",
    "listobjB = listobjA\n",
    "\n",
    "print(listobjB)\n",
    "\n",
    "print(id(listobjB))\n",
    "\n",
    "# Also confirms listobjA and listobjB are pointing to the same object\n",
    "print(listobjA is listobjB)\n",
    "\n",
    "# We can also validate the equality of these two objects by using the operator == :\n",
    "print(listobjA == listobjB)"
   ]
  },
  {
   "cell_type": "markdown",
   "metadata": {},
   "source": [
    "Let's create another list object, name it listobjC and it will be a copy of listobjA."
   ]
  },
  {
   "cell_type": "code",
   "execution_count": 21,
   "metadata": {},
   "outputs": [
    {
     "name": "stdout",
     "output_type": "stream",
     "text": [
      "[22, 33]\n",
      "1792930878848\n",
      "False\n",
      "True\n"
     ]
    }
   ],
   "source": [
    "listobjC = list(listobjA)\n",
    "\n",
    "print(listobjC)\n",
    "print(id(listobjC))\n",
    "print(listobjC is listobjA)\n",
    "print(listobjC == listobjA)"
   ]
  },
  {
   "cell_type": "code",
   "execution_count": 28,
   "metadata": {},
   "outputs": [
    {
     "name": "stdout",
     "output_type": "stream",
     "text": [
      "[22, 33, 44]\n",
      "1792930815424\n",
      "[22, 33, 44]\n"
     ]
    }
   ],
   "source": [
    "# Now let's add a third integer, 44, to the end of the original list object \n",
    "#! Don't run code/cell again as it will append another 44\n",
    "\n",
    "listobjA.append(44)\n",
    "\n",
    "print(listobjA)\n",
    "print(id(listobjA)) # The id of the listobjA didn't change\n",
    "print(listobjB)\n"
   ]
  },
  {
   "cell_type": "code",
   "execution_count": 29,
   "metadata": {},
   "outputs": [
    {
     "data": {
      "text/plain": [
       "[22, 33]"
      ]
     },
     "execution_count": 29,
     "metadata": {},
     "output_type": "execute_result"
    }
   ],
   "source": [
    "listobjC\n",
    "# listobjC didn't change because it is a separate object with its own ID."
   ]
  },
  {
   "cell_type": "markdown",
   "metadata": {},
   "source": [
    "Each element within a list object is an object as well. The list object listobjA is a container of objects which are the elements of the list. In our case the elements are integers with individual IDs. Let's check the object ID of each element within a list:"
   ]
  },
  {
   "cell_type": "code",
   "execution_count": 32,
   "metadata": {},
   "outputs": [
    {
     "name": "stdout",
     "output_type": "stream",
     "text": [
      "140735183797336\n",
      "140735183797688\n",
      "140735183798040\n",
      "140735183798040\n"
     ]
    }
   ],
   "source": [
    "print(id(listobjA[0]))\n",
    "print(id(listobjA[1]))\n",
    "print(id(listobjA[2]))\n",
    "\n",
    "'''Since listobjB is pointing to the same list object as listobjA, \n",
    "the object ID of the last, third element, should be the same'''\n",
    "print(id(listobjB[2]))"
   ]
  },
  {
   "cell_type": "code",
   "execution_count": 33,
   "metadata": {},
   "outputs": [
    {
     "name": "stdout",
     "output_type": "stream",
     "text": [
      "<class 'list'>\n",
      "<class 'int'>\n"
     ]
    }
   ],
   "source": [
    "# List elements are of type `integer`\n",
    "# whereas the list itself is of type `list`\n",
    "print(type(listobjA))\n",
    "print(type(listobjA[2]))"
   ]
  },
  {
   "cell_type": "markdown",
   "metadata": {},
   "source": [
    "# map( )"
   ]
  },
  {
   "cell_type": "code",
   "execution_count": 37,
   "metadata": {},
   "outputs": [
    {
     "data": {
      "text/plain": [
       "[1, 4, 9, 16, 25, 36]"
      ]
     },
     "execution_count": 37,
     "metadata": {},
     "output_type": "execute_result"
    }
   ],
   "source": [
    "# In the example below, we will square each element of a list using Python function map().\n",
    "\n",
    "def square_it(x):\n",
    "    return x * x\n",
    "\n",
    "listA = [1, 2, 3, 4, 5, 6]\n",
    "\n",
    "list(map(square_it, listA))\n",
    "\n",
    "''' map() returns an iterator object. \n",
    "In order to print out the values, we converted this iterator object to a list.'''"
   ]
  },
  {
   "cell_type": "markdown",
   "metadata": {},
   "source": [
    "# lambda\n",
    "\n",
    "Function `square_it()` is very short function and can be replaced with the [**`lambda` function**](https://docs.python.org/dev/howto/functional.html#small-functions-and-the-lambda-expression). It is an anonymous function which does not have a name and thus cannot be re-used elsewhere. It can be useful if, for example, we need to pass a simple one-line custom function to the other function. \n",
    "\n",
    "**NOTE:** The `lambda` function should only be used for applying very simple functions.\n",
    "\n",
    "We can re-write the code above using the lambda function as follows:"
   ]
  },
  {
   "cell_type": "code",
   "execution_count": 38,
   "metadata": {},
   "outputs": [
    {
     "data": {
      "text/plain": [
       "[1, 4, 9, 16, 25, 36]"
      ]
     },
     "execution_count": 38,
     "metadata": {},
     "output_type": "execute_result"
    }
   ],
   "source": [
    "list(map(lambda x: x * x, listA))"
   ]
  },
  {
   "cell_type": "code",
   "execution_count": 39,
   "metadata": {},
   "outputs": [
    {
     "data": {
      "text/plain": [
       "[2, 4, 6, 8, 10, 12]"
      ]
     },
     "execution_count": 39,
     "metadata": {},
     "output_type": "execute_result"
    }
   ],
   "source": [
    "# another example of using the lambda function:\n",
    "list(map(lambda x: x + x, listA))"
   ]
  }
 ],
 "metadata": {
  "kernelspec": {
   "display_name": "Python 3",
   "language": "python",
   "name": "python3"
  },
  "language_info": {
   "codemirror_mode": {
    "name": "ipython",
    "version": 3
   },
   "file_extension": ".py",
   "mimetype": "text/x-python",
   "name": "python",
   "nbconvert_exporter": "python",
   "pygments_lexer": "ipython3",
   "version": "3.12.1"
  }
 },
 "nbformat": 4,
 "nbformat_minor": 2
}
