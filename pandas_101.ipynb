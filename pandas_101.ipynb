{
 "cells": [
  {
   "cell_type": "code",
   "execution_count": null,
   "metadata": {},
   "outputs": [],
   "source": [
    "import pandas as pd"
   ]
  },
  {
   "cell_type": "markdown",
   "metadata": {},
   "source": [
    "# Series \n",
    "\n",
    "A pandas Series is a one-dimensional array that can hold indexed data of any type (integers, strings, floating point numbers, Python objects, etc.). Series can be created using:\n",
    "\n",
    "🔸Python dictionaries\n",
    "🔸NumPy ndarrays\n",
    "🔸Scalar values\n",
    "🔸Lists"
   ]
  },
  {
   "cell_type": "code",
   "execution_count": 4,
   "metadata": {},
   "outputs": [
    {
     "name": "stdout",
     "output_type": "stream",
     "text": [
      "0     45\n",
      "1    123\n",
      "2     67\n",
      "3      1\n",
      "4     14\n",
      "dtype: int64\n",
      "<class 'pandas.core.series.Series'>\n"
     ]
    }
   ],
   "source": [
    "# Create a pandas Series using a list\n",
    "\n",
    "list_ser = [45, 123, 67, 1, 14]\n",
    "\n",
    "serA = pd.Series(list_ser)\n",
    "\n",
    "print(serA) # The default index in pandas always starts with 0 (zero).\n",
    "\n",
    "print(type(serA))"
   ]
  },
  {
   "cell_type": "code",
   "execution_count": 5,
   "metadata": {},
   "outputs": [
    {
     "data": {
      "text/plain": [
       "RangeIndex(start=0, stop=5, step=1)"
      ]
     },
     "execution_count": 5,
     "metadata": {},
     "output_type": "execute_result"
    }
   ],
   "source": [
    "serA.index # inspect index"
   ]
  },
  {
   "cell_type": "markdown",
   "metadata": {},
   "source": [
    "a_given_pandas.values\n",
    "\n",
    "In pandas, when you create a Series with an index of strings, the dtype of the index is typically represented as 'object'. This is because pandas uses the NumPy library for underlying data structures, and NumPy does not have a specific data type for strings. Instead, it uses the generic 'object' data type to represent any arbitrary Python object, including strings.\n",
    "\n",
    "Even though the index values look like strings and are indeed strings in this case, pandas internally represents them as objects due to the limitations of NumPy's dtype system.\n",
    "\n",
    "Therefore, when you see dtype='object' in the output of print(serB.index), it indicates that the index data type is a generic Python object type, which is used to accommodate the string values of the index. This is a common representation for indexes with string values in pandas."
   ]
  },
  {
   "cell_type": "markdown",
   "metadata": {},
   "source": [
    "# Creating series\n",
    "\n",
    "## Using a list"
   ]
  },
  {
   "cell_type": "code",
   "execution_count": 14,
   "metadata": {
    "tags": []
   },
   "outputs": [
    {
     "name": "stdout",
     "output_type": "stream",
     "text": [
      "Num1     45.0\n",
      "Num2    123.0\n",
      "Num3     67.0\n",
      "Num4      1.0\n",
      "Num5     14.0\n",
      "Name: Numbers, dtype: float64\n",
      "Index(['Num1', 'Num2', 'Num3', 'Num4', 'Num5'], dtype='object')\n"
     ]
    },
    {
     "data": {
      "text/plain": [
       "array([ 45., 123.,  67.,   1.,  14.])"
      ]
     },
     "execution_count": 14,
     "metadata": {},
     "output_type": "execute_result"
    }
   ],
   "source": [
    "# create a Series using the same list as above, but define the index, data type and Series name:\n",
    "serB = pd.Series(list_ser,\n",
    "                 index=['Num1', 'Num2', 'Num3', 'Num4', 'Num5'], # indices can be strings\n",
    "                 dtype= 'float',\n",
    "                 name= 'Numbers') \n",
    "\n",
    "print(serB)\n",
    "print(serB.index)\n",
    "print(serB.values)"
   ]
  },
  {
   "cell_type": "markdown",
   "metadata": {},
   "source": [
    "## Using a dictionary\n",
    "\n",
    "In the next example we will create a `Series` from a dictionary. We will use the top 5 Canadian provinces by population (retrieved from [Statistics Canada](https://www150.statcan.gc.ca/n1/pub/12-581-x/2018000/pop-eng.htm) web site, we used the 2017 column of data):"
   ]
  },
  {
   "cell_type": "code",
   "execution_count": 15,
   "metadata": {},
   "outputs": [
    {
     "data": {
      "text/plain": [
       "ON    14193384\n",
       "QC     8394034\n",
       "BC     4817160\n",
       "AB     4286134\n",
       "MB     1338109\n",
       "Name: Top 5 provinces by population, dtype: int64"
      ]
     },
     "execution_count": 15,
     "metadata": {},
     "output_type": "execute_result"
    }
   ],
   "source": [
    "population_dict = {'ON': 14193384, 'QC': 8394034, 'BC': 4817160, 'AB': 4286134, 'MB': 1338109}\n",
    "\n",
    "provinces_population = pd.Series(population_dict, name='Top 5 provinces by population')\n",
    "\n",
    "provinces_population # the dictionary keys become the indices"
   ]
  },
  {
   "cell_type": "code",
   "execution_count": 21,
   "metadata": {},
   "outputs": [
    {
     "name": "stdout",
     "output_type": "stream",
     "text": [
      "14193384\n",
      "ON    14193384\n",
      "QC     8394034\n",
      "Name: Top 5 provinces by population, dtype: int64\n",
      "BC    4817160\n",
      "AB    4286134\n",
      "Name: Top 5 provinces by population, dtype: int64\n",
      "BC    4817160\n",
      "AB    4286134\n",
      "MB    1338109\n",
      "Name: Top 5 provinces by population, dtype: int64\n",
      "False\n"
     ]
    }
   ],
   "source": [
    "print(provinces_population['ON']) # population of Ontario\n",
    "\n",
    "# Selecting only provinces with population greater than 5 million.\n",
    "# This type of selection is called boolean indexing:\n",
    "print(provinces_population[provinces_population > 5000000])\n",
    "print(provinces_population[2:4])\n",
    "print(provinces_population['BC':'MB'])\n",
    "print('NS' in provinces_population) # i.e Nova Scotia"
   ]
  },
  {
   "cell_type": "code",
   "execution_count": 23,
   "metadata": {},
   "outputs": [
    {
     "name": "stdout",
     "output_type": "stream",
     "text": [
      "33028821\n",
      "6605764.2\n"
     ]
    }
   ],
   "source": [
    "print(provinces_population.sum())\n",
    "print(provinces_population.mean())"
   ]
  },
  {
   "cell_type": "markdown",
   "metadata": {},
   "source": [
    "# DataFrames\n",
    "\n",
    "A `DataFrame` can be created from a:\n",
    "\n",
    "- Dictionary of 1-D structures (`ndarray`s, `list`s, dictionaries, tuples or `Series`)\n",
    "- List of 1-D structures\n",
    "- 2-D NumPy `ndarray`\n",
    "- `Series`\n",
    "- Another `DataFrame`"
   ]
  },
  {
   "cell_type": "markdown",
   "metadata": {},
   "source": [
    "## Using a 2-dimensional list"
   ]
  },
  {
   "cell_type": "code",
   "execution_count": 42,
   "metadata": {},
   "outputs": [
    {
     "data": {
      "text/html": [
       "<div>\n",
       "<style scoped>\n",
       "    .dataframe tbody tr th:only-of-type {\n",
       "        vertical-align: middle;\n",
       "    }\n",
       "\n",
       "    .dataframe tbody tr th {\n",
       "        vertical-align: top;\n",
       "    }\n",
       "\n",
       "    .dataframe thead th {\n",
       "        text-align: right;\n",
       "    }\n",
       "</style>\n",
       "<table border=\"1\" class=\"dataframe\">\n",
       "  <thead>\n",
       "    <tr style=\"text-align: right;\">\n",
       "      <th></th>\n",
       "      <th>Age</th>\n",
       "      <th>Height</th>\n",
       "      <th>Weight</th>\n",
       "    </tr>\n",
       "  </thead>\n",
       "  <tbody>\n",
       "    <tr>\n",
       "      <th>0</th>\n",
       "      <td>8</td>\n",
       "      <td>128.0</td>\n",
       "      <td>27.5</td>\n",
       "    </tr>\n",
       "    <tr>\n",
       "      <th>1</th>\n",
       "      <td>10</td>\n",
       "      <td>138.9</td>\n",
       "      <td>34.5</td>\n",
       "    </tr>\n",
       "    <tr>\n",
       "      <th>2</th>\n",
       "      <td>16</td>\n",
       "      <td>157.3</td>\n",
       "      <td>91.1</td>\n",
       "    </tr>\n",
       "    <tr>\n",
       "      <th>3</th>\n",
       "      <td>6</td>\n",
       "      <td>116.6</td>\n",
       "      <td>21.4</td>\n",
       "    </tr>\n",
       "    <tr>\n",
       "      <th>4</th>\n",
       "      <td>14</td>\n",
       "      <td>159.2</td>\n",
       "      <td>54.4</td>\n",
       "    </tr>\n",
       "  </tbody>\n",
       "</table>\n",
       "</div>"
      ],
      "text/plain": [
       "   Age  Height  Weight\n",
       "0    8   128.0    27.5\n",
       "1   10   138.9    34.5\n",
       "2   16   157.3    91.1\n",
       "3    6   116.6    21.4\n",
       "4   14   159.2    54.4"
      ]
     },
     "execution_count": 42,
     "metadata": {},
     "output_type": "execute_result"
    }
   ],
   "source": [
    "df = pd.DataFrame(data=[[8, 128, 27.5],\n",
    "                        [10, 138.9, 34.5],\n",
    "                        [16, 157.3, 91.1],\n",
    "                        [6, 116.6, 21.4],\n",
    "                        [14, 159.2, 54.4]],\n",
    "                    columns= ['Age', 'Height', 'Weight'])\n",
    "\n",
    "df"
   ]
  },
  {
   "cell_type": "code",
   "execution_count": 44,
   "metadata": {},
   "outputs": [
    {
     "name": "stdout",
     "output_type": "stream",
     "text": [
      "RangeIndex(start=0, stop=5, step=1)\n",
      "Index(['Age', 'Height', 'Weight'], dtype='object')\n"
     ]
    }
   ],
   "source": [
    "print(df.index)\n",
    "print(df.columns)"
   ]
  },
  {
   "cell_type": "code",
   "execution_count": 46,
   "metadata": {},
   "outputs": [
    {
     "name": "stdout",
     "output_type": "stream",
     "text": [
      "<class 'pandas.core.frame.DataFrame'>\n",
      "RangeIndex: 5 entries, 0 to 4\n",
      "Data columns (total 3 columns):\n",
      " #   Column  Non-Null Count  Dtype  \n",
      "---  ------  --------------  -----  \n",
      " 0   Age     5 non-null      int64  \n",
      " 1   Height  5 non-null      float64\n",
      " 2   Weight  5 non-null      float64\n",
      "dtypes: float64(2), int64(1)\n",
      "memory usage: 252.0 bytes\n"
     ]
    }
   ],
   "source": [
    "# Using `info()` function to output summary information about the `DataFrame`:\n",
    "df.info()"
   ]
  },
  {
   "cell_type": "markdown",
   "metadata": {},
   "source": [
    "## using a dictionary\n",
    "\n",
    "To create a `DataFrame` from a dictionary, let's start with a simple dictionary which will contain area data for land and water areas for the five Canadian provinces that we worked with in the previous example (i.e. Ontario, Quebec, British Columbia, Alberta and Manitoba). We will retrieve our data from a [Wikipedia page](https://en.wikipedia.org/wiki/Provinces_and_territories_of_Canada)."
   ]
  },
  {
   "cell_type": "code",
   "execution_count": 47,
   "metadata": {},
   "outputs": [
    {
     "data": {
      "text/html": [
       "<div>\n",
       "<style scoped>\n",
       "    .dataframe tbody tr th:only-of-type {\n",
       "        vertical-align: middle;\n",
       "    }\n",
       "\n",
       "    .dataframe tbody tr th {\n",
       "        vertical-align: top;\n",
       "    }\n",
       "\n",
       "    .dataframe thead th {\n",
       "        text-align: right;\n",
       "    }\n",
       "</style>\n",
       "<table border=\"1\" class=\"dataframe\">\n",
       "  <thead>\n",
       "    <tr style=\"text-align: right;\">\n",
       "      <th></th>\n",
       "      <th>province</th>\n",
       "      <th>area_land</th>\n",
       "      <th>area_water</th>\n",
       "    </tr>\n",
       "  </thead>\n",
       "  <tbody>\n",
       "    <tr>\n",
       "      <th>0</th>\n",
       "      <td>ON</td>\n",
       "      <td>917741</td>\n",
       "      <td>158654</td>\n",
       "    </tr>\n",
       "    <tr>\n",
       "      <th>1</th>\n",
       "      <td>QC</td>\n",
       "      <td>1356128</td>\n",
       "      <td>185928</td>\n",
       "    </tr>\n",
       "    <tr>\n",
       "      <th>2</th>\n",
       "      <td>BC</td>\n",
       "      <td>925186</td>\n",
       "      <td>19549</td>\n",
       "    </tr>\n",
       "    <tr>\n",
       "      <th>3</th>\n",
       "      <td>AB</td>\n",
       "      <td>642317</td>\n",
       "      <td>19531</td>\n",
       "    </tr>\n",
       "    <tr>\n",
       "      <th>4</th>\n",
       "      <td>MB</td>\n",
       "      <td>553556</td>\n",
       "      <td>94241</td>\n",
       "    </tr>\n",
       "  </tbody>\n",
       "</table>\n",
       "</div>"
      ],
      "text/plain": [
       "  province  area_land  area_water\n",
       "0       ON     917741      158654\n",
       "1       QC    1356128      185928\n",
       "2       BC     925186       19549\n",
       "3       AB     642317       19531\n",
       "4       MB     553556       94241"
      ]
     },
     "execution_count": 47,
     "metadata": {},
     "output_type": "execute_result"
    }
   ],
   "source": [
    "area = {'province':['ON', 'QC', 'BC', 'AB', 'MB'],\n",
    "        'area_land': [917741, 1356128, 925186, 642317, 553556],\n",
    "        'area_water': [158654, 185928, 19549, 19531, 94241]}\n",
    "\n",
    "provinces_area = pd.DataFrame(area)\n",
    "\n",
    "provinces_area"
   ]
  },
  {
   "cell_type": "markdown",
   "metadata": {},
   "source": [
    "### set_index()\n",
    "\n",
    "If we want the province to be an index for this DataFrame, we need to use the method set_index():"
   ]
  },
  {
   "cell_type": "code",
   "execution_count": 49,
   "metadata": {},
   "outputs": [
    {
     "data": {
      "text/html": [
       "<div>\n",
       "<style scoped>\n",
       "    .dataframe tbody tr th:only-of-type {\n",
       "        vertical-align: middle;\n",
       "    }\n",
       "\n",
       "    .dataframe tbody tr th {\n",
       "        vertical-align: top;\n",
       "    }\n",
       "\n",
       "    .dataframe thead th {\n",
       "        text-align: right;\n",
       "    }\n",
       "</style>\n",
       "<table border=\"1\" class=\"dataframe\">\n",
       "  <thead>\n",
       "    <tr style=\"text-align: right;\">\n",
       "      <th></th>\n",
       "      <th>province</th>\n",
       "      <th>area_land</th>\n",
       "      <th>area_water</th>\n",
       "    </tr>\n",
       "  </thead>\n",
       "  <tbody>\n",
       "    <tr>\n",
       "      <th>0</th>\n",
       "      <td>ON</td>\n",
       "      <td>917741</td>\n",
       "      <td>158654</td>\n",
       "    </tr>\n",
       "    <tr>\n",
       "      <th>1</th>\n",
       "      <td>QC</td>\n",
       "      <td>1356128</td>\n",
       "      <td>185928</td>\n",
       "    </tr>\n",
       "    <tr>\n",
       "      <th>2</th>\n",
       "      <td>BC</td>\n",
       "      <td>925186</td>\n",
       "      <td>19549</td>\n",
       "    </tr>\n",
       "    <tr>\n",
       "      <th>3</th>\n",
       "      <td>AB</td>\n",
       "      <td>642317</td>\n",
       "      <td>19531</td>\n",
       "    </tr>\n",
       "    <tr>\n",
       "      <th>4</th>\n",
       "      <td>MB</td>\n",
       "      <td>553556</td>\n",
       "      <td>94241</td>\n",
       "    </tr>\n",
       "  </tbody>\n",
       "</table>\n",
       "</div>"
      ],
      "text/plain": [
       "  province  area_land  area_water\n",
       "0       ON     917741      158654\n",
       "1       QC    1356128      185928\n",
       "2       BC     925186       19549\n",
       "3       AB     642317       19531\n",
       "4       MB     553556       94241"
      ]
     },
     "execution_count": 49,
     "metadata": {},
     "output_type": "execute_result"
    }
   ],
   "source": [
    "provinces_area.set_index('province')\n",
    "\n",
    "provinces_area"
   ]
  },
  {
   "cell_type": "markdown",
   "metadata": {},
   "source": [
    "# Loading DataFrames\n",
    "\n",
    "For this exercise, we will continue looking into the data that describes Canadian provinces. This time, we will use the data of the last 3 years of [Federal Support to all Canadian Provinces and Territories](https://www.fin.gc.ca/fedprov/mtp-eng.asp). All numbers are in millions of dollars.\n",
    "\n",
    "The dataset that I am planning to use in this section is stored in the pandas_ex1.csv file, we assume that the file is in the same folder as the notebook working directory."
   ]
  },
  {
   "cell_type": "code",
   "execution_count": 50,
   "metadata": {},
   "outputs": [
    {
     "data": {
      "text/html": [
       "<div>\n",
       "<style scoped>\n",
       "    .dataframe tbody tr th:only-of-type {\n",
       "        vertical-align: middle;\n",
       "    }\n",
       "\n",
       "    .dataframe tbody tr th {\n",
       "        vertical-align: top;\n",
       "    }\n",
       "\n",
       "    .dataframe thead th {\n",
       "        text-align: right;\n",
       "    }\n",
       "</style>\n",
       "<table border=\"1\" class=\"dataframe\">\n",
       "  <thead>\n",
       "    <tr style=\"text-align: right;\">\n",
       "      <th></th>\n",
       "      <th>Canadian Provinces and Territories</th>\n",
       "      <th>Two-Letter Abbreviation</th>\n",
       "      <th>2016-17</th>\n",
       "      <th>2017-18</th>\n",
       "      <th>2018-19</th>\n",
       "    </tr>\n",
       "  </thead>\n",
       "  <tbody>\n",
       "    <tr>\n",
       "      <th>0</th>\n",
       "      <td>Newfoundland and Labrador</td>\n",
       "      <td>NL</td>\n",
       "      <td>724</td>\n",
       "      <td>734</td>\n",
       "      <td>750</td>\n",
       "    </tr>\n",
       "    <tr>\n",
       "      <th>1</th>\n",
       "      <td>Prince Edward Island</td>\n",
       "      <td>PE</td>\n",
       "      <td>584</td>\n",
       "      <td>601</td>\n",
       "      <td>638</td>\n",
       "    </tr>\n",
       "    <tr>\n",
       "      <th>2</th>\n",
       "      <td>Nova Scotia</td>\n",
       "      <td>NS</td>\n",
       "      <td>3060</td>\n",
       "      <td>3138</td>\n",
       "      <td>3201</td>\n",
       "    </tr>\n",
       "    <tr>\n",
       "      <th>3</th>\n",
       "      <td>New Brunswick</td>\n",
       "      <td>NB</td>\n",
       "      <td>2741</td>\n",
       "      <td>2814</td>\n",
       "      <td>2956</td>\n",
       "    </tr>\n",
       "    <tr>\n",
       "      <th>4</th>\n",
       "      <td>Quebec</td>\n",
       "      <td>QC</td>\n",
       "      <td>21372</td>\n",
       "      <td>22720</td>\n",
       "      <td>23749</td>\n",
       "    </tr>\n",
       "    <tr>\n",
       "      <th>5</th>\n",
       "      <td>Ontario</td>\n",
       "      <td>ON</td>\n",
       "      <td>21347</td>\n",
       "      <td>21101</td>\n",
       "      <td>21420</td>\n",
       "    </tr>\n",
       "    <tr>\n",
       "      <th>6</th>\n",
       "      <td>Manitoba</td>\n",
       "      <td>MB</td>\n",
       "      <td>3531</td>\n",
       "      <td>3675</td>\n",
       "      <td>3965</td>\n",
       "    </tr>\n",
       "    <tr>\n",
       "      <th>7</th>\n",
       "      <td>Saskatchewan</td>\n",
       "      <td>SK</td>\n",
       "      <td>1565</td>\n",
       "      <td>1613</td>\n",
       "      <td>1673</td>\n",
       "    </tr>\n",
       "    <tr>\n",
       "      <th>8</th>\n",
       "      <td>Alberta</td>\n",
       "      <td>AB</td>\n",
       "      <td>5772</td>\n",
       "      <td>5943</td>\n",
       "      <td>6157</td>\n",
       "    </tr>\n",
       "    <tr>\n",
       "      <th>9</th>\n",
       "      <td>British Columbia</td>\n",
       "      <td>BC</td>\n",
       "      <td>6482</td>\n",
       "      <td>6680</td>\n",
       "      <td>6925</td>\n",
       "    </tr>\n",
       "    <tr>\n",
       "      <th>10</th>\n",
       "      <td>Yukon</td>\n",
       "      <td>YT</td>\n",
       "      <td>946</td>\n",
       "      <td>973</td>\n",
       "      <td>1006</td>\n",
       "    </tr>\n",
       "    <tr>\n",
       "      <th>11</th>\n",
       "      <td>Northwest Territories</td>\n",
       "      <td>NT</td>\n",
       "      <td>1281</td>\n",
       "      <td>1294</td>\n",
       "      <td>1319</td>\n",
       "    </tr>\n",
       "    <tr>\n",
       "      <th>12</th>\n",
       "      <td>Nunavut</td>\n",
       "      <td>NU</td>\n",
       "      <td>1539</td>\n",
       "      <td>1583</td>\n",
       "      <td>1634</td>\n",
       "    </tr>\n",
       "  </tbody>\n",
       "</table>\n",
       "</div>"
      ],
      "text/plain": [
       "   Canadian Provinces and Territories Two-Letter Abbreviation  2016-17  \\\n",
       "0           Newfoundland and Labrador                      NL      724   \n",
       "1                Prince Edward Island                      PE      584   \n",
       "2                         Nova Scotia                      NS     3060   \n",
       "3                       New Brunswick                      NB     2741   \n",
       "4                              Quebec                      QC    21372   \n",
       "5                             Ontario                      ON    21347   \n",
       "6                            Manitoba                      MB     3531   \n",
       "7                        Saskatchewan                      SK     1565   \n",
       "8                             Alberta                      AB     5772   \n",
       "9                    British Columbia                      BC     6482   \n",
       "10                              Yukon                      YT      946   \n",
       "11              Northwest Territories                      NT     1281   \n",
       "12                            Nunavut                      NU     1539   \n",
       "\n",
       "    2017-18  2018-19  \n",
       "0       734      750  \n",
       "1       601      638  \n",
       "2      3138     3201  \n",
       "3      2814     2956  \n",
       "4     22720    23749  \n",
       "5     21101    21420  \n",
       "6      3675     3965  \n",
       "7      1613     1673  \n",
       "8      5943     6157  \n",
       "9      6680     6925  \n",
       "10      973     1006  \n",
       "11     1294     1319  \n",
       "12     1583     1634  "
      ]
     },
     "execution_count": 50,
     "metadata": {},
     "output_type": "execute_result"
    }
   ],
   "source": [
    "# Reading a csv file/loading csv file into a DataFrame\n",
    "\n",
    "# sep=, to ensure that the Python interpreter reads the data correctly:\n",
    "prov_support = pd.read_csv('pandas_ex1.csv', sep=',')\n",
    "\n",
    "prov_support"
   ]
  },
  {
   "cell_type": "code",
   "execution_count": 51,
   "metadata": {},
   "outputs": [
    {
     "name": "stdout",
     "output_type": "stream",
     "text": [
      "<class 'pandas.core.frame.DataFrame'>\n",
      "RangeIndex: 13 entries, 0 to 12\n",
      "Data columns (total 5 columns):\n",
      " #   Column                              Non-Null Count  Dtype \n",
      "---  ------                              --------------  ----- \n",
      " 0   Canadian Provinces and Territories  13 non-null     object\n",
      " 1   Two-Letter Abbreviation             13 non-null     object\n",
      " 2   2016-17                             13 non-null     int64 \n",
      " 3   2017-18                             13 non-null     int64 \n",
      " 4   2018-19                             13 non-null     int64 \n",
      "dtypes: int64(3), object(2)\n",
      "memory usage: 652.0+ bytes\n"
     ]
    }
   ],
   "source": [
    "prov_support.info()\n",
    "\n",
    "# We can see that the `DataFrame` object has 5 columns of data, 3 columns are integers and 2 columns are of `object` data type. In pandas, \"object\" usually means `string`."
   ]
  },
  {
   "cell_type": "markdown",
   "metadata": {},
   "source": [
    "## Object data type\n",
    "\n",
    "We can see that the `DataFrame` object has 5 columns of data, 3 columns are integers and 2 columns are of `object` data type. In pandas, \"object\" usually means `string`.\n",
    "We can also use the method `dtypes` to check data types for each column of data:"
   ]
  },
  {
   "cell_type": "markdown",
   "metadata": {},
   "source": [
    "## dtypes\n",
    "\n",
    "We can also use the method `dtypes` to check data types for each column of data:"
   ]
  },
  {
   "cell_type": "code",
   "execution_count": 56,
   "metadata": {},
   "outputs": [
    {
     "data": {
      "text/plain": [
       "Canadian Provinces and Territories    object\n",
       "Two-Letter Abbreviation               object\n",
       "2016-17                                int64\n",
       "2017-18                                int64\n",
       "2018-19                                int64\n",
       "dtype: object"
      ]
     },
     "execution_count": 56,
     "metadata": {},
     "output_type": "execute_result"
    }
   ],
   "source": [
    "prov_support.dtypes"
   ]
  },
  {
   "cell_type": "code",
   "execution_count": 13,
   "metadata": {},
   "outputs": [
    {
     "data": {
      "text/html": [
       "<div>\n",
       "<style scoped>\n",
       "    .dataframe tbody tr th:only-of-type {\n",
       "        vertical-align: middle;\n",
       "    }\n",
       "\n",
       "    .dataframe tbody tr th {\n",
       "        vertical-align: top;\n",
       "    }\n",
       "\n",
       "    .dataframe thead th {\n",
       "        text-align: right;\n",
       "    }\n",
       "</style>\n",
       "<table border=\"1\" class=\"dataframe\">\n",
       "  <thead>\n",
       "    <tr style=\"text-align: right;\">\n",
       "      <th></th>\n",
       "      <th>province_name</th>\n",
       "      <th>2016</th>\n",
       "      <th>2017</th>\n",
       "      <th>2018</th>\n",
       "    </tr>\n",
       "    <tr>\n",
       "      <th>province</th>\n",
       "      <th></th>\n",
       "      <th></th>\n",
       "      <th></th>\n",
       "      <th></th>\n",
       "    </tr>\n",
       "  </thead>\n",
       "  <tbody>\n",
       "    <tr>\n",
       "      <th>NL</th>\n",
       "      <td>Newfoundland and Labrador</td>\n",
       "      <td>724</td>\n",
       "      <td>734</td>\n",
       "      <td>750</td>\n",
       "    </tr>\n",
       "    <tr>\n",
       "      <th>PE</th>\n",
       "      <td>Prince Edward Island</td>\n",
       "      <td>584</td>\n",
       "      <td>601</td>\n",
       "      <td>638</td>\n",
       "    </tr>\n",
       "    <tr>\n",
       "      <th>NS</th>\n",
       "      <td>Nova Scotia</td>\n",
       "      <td>3060</td>\n",
       "      <td>3138</td>\n",
       "      <td>3201</td>\n",
       "    </tr>\n",
       "    <tr>\n",
       "      <th>NB</th>\n",
       "      <td>New Brunswick</td>\n",
       "      <td>2741</td>\n",
       "      <td>2814</td>\n",
       "      <td>2956</td>\n",
       "    </tr>\n",
       "    <tr>\n",
       "      <th>QC</th>\n",
       "      <td>Quebec</td>\n",
       "      <td>21372</td>\n",
       "      <td>22720</td>\n",
       "      <td>23749</td>\n",
       "    </tr>\n",
       "    <tr>\n",
       "      <th>ON</th>\n",
       "      <td>Ontario</td>\n",
       "      <td>21347</td>\n",
       "      <td>21101</td>\n",
       "      <td>21420</td>\n",
       "    </tr>\n",
       "    <tr>\n",
       "      <th>MB</th>\n",
       "      <td>Manitoba</td>\n",
       "      <td>3531</td>\n",
       "      <td>3675</td>\n",
       "      <td>3965</td>\n",
       "    </tr>\n",
       "    <tr>\n",
       "      <th>SK</th>\n",
       "      <td>Saskatchewan</td>\n",
       "      <td>1565</td>\n",
       "      <td>1613</td>\n",
       "      <td>1673</td>\n",
       "    </tr>\n",
       "    <tr>\n",
       "      <th>AB</th>\n",
       "      <td>Alberta</td>\n",
       "      <td>5772</td>\n",
       "      <td>5943</td>\n",
       "      <td>6157</td>\n",
       "    </tr>\n",
       "    <tr>\n",
       "      <th>BC</th>\n",
       "      <td>British Columbia</td>\n",
       "      <td>6482</td>\n",
       "      <td>6680</td>\n",
       "      <td>6925</td>\n",
       "    </tr>\n",
       "    <tr>\n",
       "      <th>YT</th>\n",
       "      <td>Yukon</td>\n",
       "      <td>946</td>\n",
       "      <td>973</td>\n",
       "      <td>1006</td>\n",
       "    </tr>\n",
       "    <tr>\n",
       "      <th>NT</th>\n",
       "      <td>Northwest Territories</td>\n",
       "      <td>1281</td>\n",
       "      <td>1294</td>\n",
       "      <td>1319</td>\n",
       "    </tr>\n",
       "    <tr>\n",
       "      <th>NU</th>\n",
       "      <td>Nunavut</td>\n",
       "      <td>1539</td>\n",
       "      <td>1583</td>\n",
       "      <td>1634</td>\n",
       "    </tr>\n",
       "  </tbody>\n",
       "</table>\n",
       "</div>"
      ],
      "text/plain": [
       "                      province_name   2016   2017   2018\n",
       "province                                                \n",
       "NL        Newfoundland and Labrador    724    734    750\n",
       "PE             Prince Edward Island    584    601    638\n",
       "NS                      Nova Scotia   3060   3138   3201\n",
       "NB                    New Brunswick   2741   2814   2956\n",
       "QC                           Quebec  21372  22720  23749\n",
       "ON                          Ontario  21347  21101  21420\n",
       "MB                         Manitoba   3531   3675   3965\n",
       "SK                     Saskatchewan   1565   1613   1673\n",
       "AB                          Alberta   5772   5943   6157\n",
       "BC                 British Columbia   6482   6680   6925\n",
       "YT                            Yukon    946    973   1006\n",
       "NT            Northwest Territories   1281   1294   1319\n",
       "NU                          Nunavut   1539   1583   1634"
      ]
     },
     "execution_count": 13,
     "metadata": {},
     "output_type": "execute_result"
    }
   ],
   "source": [
    "# Omit header\n",
    "# specify column names\n",
    "# use column 'province' as index\n",
    "\n",
    "prov_support = pd.read_csv('pandas_ex1.csv',\n",
    "                           sep=',',\n",
    "                           skiprows=1,\n",
    "                           header=None, # We are telling pandas that there is no header in the file, as we skipped  the first row\n",
    "                           names=['province_name','province','2016','2017','2018'], # names of columns\n",
    "                           index_col='province') \n",
    "\n",
    "prov_support"
   ]
  },
  {
   "cell_type": "markdown",
   "metadata": {},
   "source": [
    "# Saving DataFrames\n",
    "\n",
    "In `pandas`, we utilize the `to_csv()` function for writing out `DataFrame` data in `csv` format. It is similar to the reading function, except now the parameters are used for formatting output instead of parsing input."
   ]
  },
  {
   "cell_type": "code",
   "execution_count": 14,
   "metadata": {},
   "outputs": [
    {
     "data": {
      "text/plain": [
       "'province,province_name,2016,2017,2018\\r\\nNL,Newfoundland and Labrador,724,734,750\\r\\nPE,Prince Edward Island,584,601,638\\r\\nNS,Nova Scotia,3060,3138,3201\\r\\nNB,New Brunswick,2741,2814,2956\\r\\nQC,Quebec,21372,22720,23749\\r\\nON,Ontario,21347,21101,21420\\r\\nMB,Manitoba,3531,3675,3965\\r\\nSK,Saskatchewan,1565,1613,1673\\r\\nAB,Alberta,5772,5943,6157\\r\\nBC,British Columbia,6482,6680,6925\\r\\nYT,Yukon,946,973,1006\\r\\nNT,Northwest Territories,1281,1294,1319\\r\\nNU,Nunavut,1539,1583,1634\\r\\n'"
      ]
     },
     "execution_count": 14,
     "metadata": {},
     "output_type": "execute_result"
    }
   ],
   "source": [
    "csv_out = prov_support.to_csv() # convert DataFrame to csv format\n",
    "\n",
    "csv_out"
   ]
  },
  {
   "cell_type": "markdown",
   "metadata": {},
   "source": [
    "## to_csv( ) part 1"
   ]
  },
  {
   "cell_type": "code",
   "execution_count": 15,
   "metadata": {},
   "outputs": [],
   "source": [
    "# writing to a file\n",
    "prov_support.to_csv('csv_out1.csv')"
   ]
  },
  {
   "cell_type": "markdown",
   "metadata": {},
   "source": [
    "## to_csv( ) part 2\n",
    "\n",
    "We can also make a more elaborate call and specify if we want to include a header row and index, and what character should be used as a column separator:"
   ]
  },
  {
   "cell_type": "code",
   "execution_count": 16,
   "metadata": {},
   "outputs": [],
   "source": [
    "prov_support.to_csv('csv_out2.csv',\n",
    "                    sep='\\t',       # the separator used for the columns\n",
    "                    index=True,     # whether to include indexes in output\n",
    "                    header=True)    # whether to include headers in output"
   ]
  },
  {
   "cell_type": "markdown",
   "metadata": {},
   "source": [
    "# Renaming DataFrame columns\n",
    "\n",
    "Let's load the data into the DataFrame one more time without specifying any parameters for the read_csv() function, like we did in the beginning of this section:"
   ]
  },
  {
   "cell_type": "code",
   "execution_count": 17,
   "metadata": {},
   "outputs": [
    {
     "data": {
      "text/html": [
       "<div>\n",
       "<style scoped>\n",
       "    .dataframe tbody tr th:only-of-type {\n",
       "        vertical-align: middle;\n",
       "    }\n",
       "\n",
       "    .dataframe tbody tr th {\n",
       "        vertical-align: top;\n",
       "    }\n",
       "\n",
       "    .dataframe thead th {\n",
       "        text-align: right;\n",
       "    }\n",
       "</style>\n",
       "<table border=\"1\" class=\"dataframe\">\n",
       "  <thead>\n",
       "    <tr style=\"text-align: right;\">\n",
       "      <th></th>\n",
       "      <th>Canadian Provinces and Territories</th>\n",
       "      <th>Two-Letter Abbreviation</th>\n",
       "      <th>2016-17</th>\n",
       "      <th>2017-18</th>\n",
       "      <th>2018-19</th>\n",
       "    </tr>\n",
       "  </thead>\n",
       "  <tbody>\n",
       "    <tr>\n",
       "      <th>0</th>\n",
       "      <td>Newfoundland and Labrador</td>\n",
       "      <td>NL</td>\n",
       "      <td>724</td>\n",
       "      <td>734</td>\n",
       "      <td>750</td>\n",
       "    </tr>\n",
       "    <tr>\n",
       "      <th>1</th>\n",
       "      <td>Prince Edward Island</td>\n",
       "      <td>PE</td>\n",
       "      <td>584</td>\n",
       "      <td>601</td>\n",
       "      <td>638</td>\n",
       "    </tr>\n",
       "    <tr>\n",
       "      <th>2</th>\n",
       "      <td>Nova Scotia</td>\n",
       "      <td>NS</td>\n",
       "      <td>3060</td>\n",
       "      <td>3138</td>\n",
       "      <td>3201</td>\n",
       "    </tr>\n",
       "    <tr>\n",
       "      <th>3</th>\n",
       "      <td>New Brunswick</td>\n",
       "      <td>NB</td>\n",
       "      <td>2741</td>\n",
       "      <td>2814</td>\n",
       "      <td>2956</td>\n",
       "    </tr>\n",
       "    <tr>\n",
       "      <th>4</th>\n",
       "      <td>Quebec</td>\n",
       "      <td>QC</td>\n",
       "      <td>21372</td>\n",
       "      <td>22720</td>\n",
       "      <td>23749</td>\n",
       "    </tr>\n",
       "    <tr>\n",
       "      <th>5</th>\n",
       "      <td>Ontario</td>\n",
       "      <td>ON</td>\n",
       "      <td>21347</td>\n",
       "      <td>21101</td>\n",
       "      <td>21420</td>\n",
       "    </tr>\n",
       "    <tr>\n",
       "      <th>6</th>\n",
       "      <td>Manitoba</td>\n",
       "      <td>MB</td>\n",
       "      <td>3531</td>\n",
       "      <td>3675</td>\n",
       "      <td>3965</td>\n",
       "    </tr>\n",
       "    <tr>\n",
       "      <th>7</th>\n",
       "      <td>Saskatchewan</td>\n",
       "      <td>SK</td>\n",
       "      <td>1565</td>\n",
       "      <td>1613</td>\n",
       "      <td>1673</td>\n",
       "    </tr>\n",
       "    <tr>\n",
       "      <th>8</th>\n",
       "      <td>Alberta</td>\n",
       "      <td>AB</td>\n",
       "      <td>5772</td>\n",
       "      <td>5943</td>\n",
       "      <td>6157</td>\n",
       "    </tr>\n",
       "    <tr>\n",
       "      <th>9</th>\n",
       "      <td>British Columbia</td>\n",
       "      <td>BC</td>\n",
       "      <td>6482</td>\n",
       "      <td>6680</td>\n",
       "      <td>6925</td>\n",
       "    </tr>\n",
       "    <tr>\n",
       "      <th>10</th>\n",
       "      <td>Yukon</td>\n",
       "      <td>YT</td>\n",
       "      <td>946</td>\n",
       "      <td>973</td>\n",
       "      <td>1006</td>\n",
       "    </tr>\n",
       "    <tr>\n",
       "      <th>11</th>\n",
       "      <td>Northwest Territories</td>\n",
       "      <td>NT</td>\n",
       "      <td>1281</td>\n",
       "      <td>1294</td>\n",
       "      <td>1319</td>\n",
       "    </tr>\n",
       "    <tr>\n",
       "      <th>12</th>\n",
       "      <td>Nunavut</td>\n",
       "      <td>NU</td>\n",
       "      <td>1539</td>\n",
       "      <td>1583</td>\n",
       "      <td>1634</td>\n",
       "    </tr>\n",
       "  </tbody>\n",
       "</table>\n",
       "</div>"
      ],
      "text/plain": [
       "   Canadian Provinces and Territories Two-Letter Abbreviation  2016-17  \\\n",
       "0           Newfoundland and Labrador                      NL      724   \n",
       "1                Prince Edward Island                      PE      584   \n",
       "2                         Nova Scotia                      NS     3060   \n",
       "3                       New Brunswick                      NB     2741   \n",
       "4                              Quebec                      QC    21372   \n",
       "5                             Ontario                      ON    21347   \n",
       "6                            Manitoba                      MB     3531   \n",
       "7                        Saskatchewan                      SK     1565   \n",
       "8                             Alberta                      AB     5772   \n",
       "9                    British Columbia                      BC     6482   \n",
       "10                              Yukon                      YT      946   \n",
       "11              Northwest Territories                      NT     1281   \n",
       "12                            Nunavut                      NU     1539   \n",
       "\n",
       "    2017-18  2018-19  \n",
       "0       734      750  \n",
       "1       601      638  \n",
       "2      3138     3201  \n",
       "3      2814     2956  \n",
       "4     22720    23749  \n",
       "5     21101    21420  \n",
       "6      3675     3965  \n",
       "7      1613     1673  \n",
       "8      5943     6157  \n",
       "9      6680     6925  \n",
       "10      973     1006  \n",
       "11     1294     1319  \n",
       "12     1583     1634  "
      ]
     },
     "execution_count": 17,
     "metadata": {},
     "output_type": "execute_result"
    }
   ],
   "source": [
    "fed_sup = pd.read_csv('pandas_ex1.csv', sep=',')\n",
    "\n",
    "fed_sup"
   ]
  },
  {
   "cell_type": "markdown",
   "metadata": {},
   "source": [
    ".columns"
   ]
  },
  {
   "cell_type": "code",
   "execution_count": 18,
   "metadata": {},
   "outputs": [
    {
     "data": {
      "text/html": [
       "<div>\n",
       "<style scoped>\n",
       "    .dataframe tbody tr th:only-of-type {\n",
       "        vertical-align: middle;\n",
       "    }\n",
       "\n",
       "    .dataframe tbody tr th {\n",
       "        vertical-align: top;\n",
       "    }\n",
       "\n",
       "    .dataframe thead th {\n",
       "        text-align: right;\n",
       "    }\n",
       "</style>\n",
       "<table border=\"1\" class=\"dataframe\">\n",
       "  <thead>\n",
       "    <tr style=\"text-align: right;\">\n",
       "      <th></th>\n",
       "      <th>Province Name</th>\n",
       "      <th>Province Abbreviation</th>\n",
       "      <th>2016</th>\n",
       "      <th>2017</th>\n",
       "      <th>2018</th>\n",
       "    </tr>\n",
       "  </thead>\n",
       "  <tbody>\n",
       "    <tr>\n",
       "      <th>0</th>\n",
       "      <td>Newfoundland and Labrador</td>\n",
       "      <td>NL</td>\n",
       "      <td>724</td>\n",
       "      <td>734</td>\n",
       "      <td>750</td>\n",
       "    </tr>\n",
       "    <tr>\n",
       "      <th>1</th>\n",
       "      <td>Prince Edward Island</td>\n",
       "      <td>PE</td>\n",
       "      <td>584</td>\n",
       "      <td>601</td>\n",
       "      <td>638</td>\n",
       "    </tr>\n",
       "    <tr>\n",
       "      <th>2</th>\n",
       "      <td>Nova Scotia</td>\n",
       "      <td>NS</td>\n",
       "      <td>3060</td>\n",
       "      <td>3138</td>\n",
       "      <td>3201</td>\n",
       "    </tr>\n",
       "    <tr>\n",
       "      <th>3</th>\n",
       "      <td>New Brunswick</td>\n",
       "      <td>NB</td>\n",
       "      <td>2741</td>\n",
       "      <td>2814</td>\n",
       "      <td>2956</td>\n",
       "    </tr>\n",
       "    <tr>\n",
       "      <th>4</th>\n",
       "      <td>Quebec</td>\n",
       "      <td>QC</td>\n",
       "      <td>21372</td>\n",
       "      <td>22720</td>\n",
       "      <td>23749</td>\n",
       "    </tr>\n",
       "    <tr>\n",
       "      <th>5</th>\n",
       "      <td>Ontario</td>\n",
       "      <td>ON</td>\n",
       "      <td>21347</td>\n",
       "      <td>21101</td>\n",
       "      <td>21420</td>\n",
       "    </tr>\n",
       "    <tr>\n",
       "      <th>6</th>\n",
       "      <td>Manitoba</td>\n",
       "      <td>MB</td>\n",
       "      <td>3531</td>\n",
       "      <td>3675</td>\n",
       "      <td>3965</td>\n",
       "    </tr>\n",
       "    <tr>\n",
       "      <th>7</th>\n",
       "      <td>Saskatchewan</td>\n",
       "      <td>SK</td>\n",
       "      <td>1565</td>\n",
       "      <td>1613</td>\n",
       "      <td>1673</td>\n",
       "    </tr>\n",
       "    <tr>\n",
       "      <th>8</th>\n",
       "      <td>Alberta</td>\n",
       "      <td>AB</td>\n",
       "      <td>5772</td>\n",
       "      <td>5943</td>\n",
       "      <td>6157</td>\n",
       "    </tr>\n",
       "    <tr>\n",
       "      <th>9</th>\n",
       "      <td>British Columbia</td>\n",
       "      <td>BC</td>\n",
       "      <td>6482</td>\n",
       "      <td>6680</td>\n",
       "      <td>6925</td>\n",
       "    </tr>\n",
       "    <tr>\n",
       "      <th>10</th>\n",
       "      <td>Yukon</td>\n",
       "      <td>YT</td>\n",
       "      <td>946</td>\n",
       "      <td>973</td>\n",
       "      <td>1006</td>\n",
       "    </tr>\n",
       "    <tr>\n",
       "      <th>11</th>\n",
       "      <td>Northwest Territories</td>\n",
       "      <td>NT</td>\n",
       "      <td>1281</td>\n",
       "      <td>1294</td>\n",
       "      <td>1319</td>\n",
       "    </tr>\n",
       "    <tr>\n",
       "      <th>12</th>\n",
       "      <td>Nunavut</td>\n",
       "      <td>NU</td>\n",
       "      <td>1539</td>\n",
       "      <td>1583</td>\n",
       "      <td>1634</td>\n",
       "    </tr>\n",
       "  </tbody>\n",
       "</table>\n",
       "</div>"
      ],
      "text/plain": [
       "                Province Name Province Abbreviation   2016   2017   2018\n",
       "0   Newfoundland and Labrador                    NL    724    734    750\n",
       "1        Prince Edward Island                    PE    584    601    638\n",
       "2                 Nova Scotia                    NS   3060   3138   3201\n",
       "3               New Brunswick                    NB   2741   2814   2956\n",
       "4                      Quebec                    QC  21372  22720  23749\n",
       "5                     Ontario                    ON  21347  21101  21420\n",
       "6                    Manitoba                    MB   3531   3675   3965\n",
       "7                Saskatchewan                    SK   1565   1613   1673\n",
       "8                     Alberta                    AB   5772   5943   6157\n",
       "9            British Columbia                    BC   6482   6680   6925\n",
       "10                      Yukon                    YT    946    973   1006\n",
       "11      Northwest Territories                    NT   1281   1294   1319\n",
       "12                    Nunavut                    NU   1539   1583   1634"
      ]
     },
     "execution_count": 18,
     "metadata": {},
     "output_type": "execute_result"
    }
   ],
   "source": [
    "# rename columns\n",
    "fed_sup.columns = ['Province Name', 'Province Abbreviation', '2016', '2017', '2018'] \n",
    "\n",
    "fed_sup"
   ]
  },
  {
   "cell_type": "markdown",
   "metadata": {},
   "source": [
    "rename()\n",
    "\n",
    "The advantage of using the rename() function is that you can include only those column names that require the change and be specific about what column names you want to rename."
   ]
  },
  {
   "cell_type": "code",
   "execution_count": 19,
   "metadata": {},
   "outputs": [
    {
     "data": {
      "text/html": [
       "<div>\n",
       "<style scoped>\n",
       "    .dataframe tbody tr th:only-of-type {\n",
       "        vertical-align: middle;\n",
       "    }\n",
       "\n",
       "    .dataframe tbody tr th {\n",
       "        vertical-align: top;\n",
       "    }\n",
       "\n",
       "    .dataframe thead th {\n",
       "        text-align: right;\n",
       "    }\n",
       "</style>\n",
       "<table border=\"1\" class=\"dataframe\">\n",
       "  <thead>\n",
       "    <tr style=\"text-align: right;\">\n",
       "      <th></th>\n",
       "      <th>province_name</th>\n",
       "      <th>province</th>\n",
       "      <th>2016</th>\n",
       "      <th>2017</th>\n",
       "      <th>2018</th>\n",
       "    </tr>\n",
       "  </thead>\n",
       "  <tbody>\n",
       "    <tr>\n",
       "      <th>0</th>\n",
       "      <td>Newfoundland and Labrador</td>\n",
       "      <td>NL</td>\n",
       "      <td>724</td>\n",
       "      <td>734</td>\n",
       "      <td>750</td>\n",
       "    </tr>\n",
       "    <tr>\n",
       "      <th>1</th>\n",
       "      <td>Prince Edward Island</td>\n",
       "      <td>PE</td>\n",
       "      <td>584</td>\n",
       "      <td>601</td>\n",
       "      <td>638</td>\n",
       "    </tr>\n",
       "    <tr>\n",
       "      <th>2</th>\n",
       "      <td>Nova Scotia</td>\n",
       "      <td>NS</td>\n",
       "      <td>3060</td>\n",
       "      <td>3138</td>\n",
       "      <td>3201</td>\n",
       "    </tr>\n",
       "    <tr>\n",
       "      <th>3</th>\n",
       "      <td>New Brunswick</td>\n",
       "      <td>NB</td>\n",
       "      <td>2741</td>\n",
       "      <td>2814</td>\n",
       "      <td>2956</td>\n",
       "    </tr>\n",
       "    <tr>\n",
       "      <th>4</th>\n",
       "      <td>Quebec</td>\n",
       "      <td>QC</td>\n",
       "      <td>21372</td>\n",
       "      <td>22720</td>\n",
       "      <td>23749</td>\n",
       "    </tr>\n",
       "    <tr>\n",
       "      <th>5</th>\n",
       "      <td>Ontario</td>\n",
       "      <td>ON</td>\n",
       "      <td>21347</td>\n",
       "      <td>21101</td>\n",
       "      <td>21420</td>\n",
       "    </tr>\n",
       "    <tr>\n",
       "      <th>6</th>\n",
       "      <td>Manitoba</td>\n",
       "      <td>MB</td>\n",
       "      <td>3531</td>\n",
       "      <td>3675</td>\n",
       "      <td>3965</td>\n",
       "    </tr>\n",
       "    <tr>\n",
       "      <th>7</th>\n",
       "      <td>Saskatchewan</td>\n",
       "      <td>SK</td>\n",
       "      <td>1565</td>\n",
       "      <td>1613</td>\n",
       "      <td>1673</td>\n",
       "    </tr>\n",
       "    <tr>\n",
       "      <th>8</th>\n",
       "      <td>Alberta</td>\n",
       "      <td>AB</td>\n",
       "      <td>5772</td>\n",
       "      <td>5943</td>\n",
       "      <td>6157</td>\n",
       "    </tr>\n",
       "    <tr>\n",
       "      <th>9</th>\n",
       "      <td>British Columbia</td>\n",
       "      <td>BC</td>\n",
       "      <td>6482</td>\n",
       "      <td>6680</td>\n",
       "      <td>6925</td>\n",
       "    </tr>\n",
       "    <tr>\n",
       "      <th>10</th>\n",
       "      <td>Yukon</td>\n",
       "      <td>YT</td>\n",
       "      <td>946</td>\n",
       "      <td>973</td>\n",
       "      <td>1006</td>\n",
       "    </tr>\n",
       "    <tr>\n",
       "      <th>11</th>\n",
       "      <td>Northwest Territories</td>\n",
       "      <td>NT</td>\n",
       "      <td>1281</td>\n",
       "      <td>1294</td>\n",
       "      <td>1319</td>\n",
       "    </tr>\n",
       "    <tr>\n",
       "      <th>12</th>\n",
       "      <td>Nunavut</td>\n",
       "      <td>NU</td>\n",
       "      <td>1539</td>\n",
       "      <td>1583</td>\n",
       "      <td>1634</td>\n",
       "    </tr>\n",
       "  </tbody>\n",
       "</table>\n",
       "</div>"
      ],
      "text/plain": [
       "                province_name province   2016   2017   2018\n",
       "0   Newfoundland and Labrador       NL    724    734    750\n",
       "1        Prince Edward Island       PE    584    601    638\n",
       "2                 Nova Scotia       NS   3060   3138   3201\n",
       "3               New Brunswick       NB   2741   2814   2956\n",
       "4                      Quebec       QC  21372  22720  23749\n",
       "5                     Ontario       ON  21347  21101  21420\n",
       "6                    Manitoba       MB   3531   3675   3965\n",
       "7                Saskatchewan       SK   1565   1613   1673\n",
       "8                     Alberta       AB   5772   5943   6157\n",
       "9            British Columbia       BC   6482   6680   6925\n",
       "10                      Yukon       YT    946    973   1006\n",
       "11      Northwest Territories       NT   1281   1294   1319\n",
       "12                    Nunavut       NU   1539   1583   1634"
      ]
     },
     "execution_count": 19,
     "metadata": {},
     "output_type": "execute_result"
    }
   ],
   "source": [
    "# rename columns and remove spaces\n",
    "fed_sup = fed_sup.rename(columns={'Province Name':'province_name', 'Province Abbreviation':'province'})\n",
    "\n",
    "fed_sup"
   ]
  },
  {
   "cell_type": "markdown",
   "metadata": {},
   "source": [
    "# Working with DataFrames\n",
    "\n",
    "## head()"
   ]
  },
  {
   "cell_type": "code",
   "execution_count": 20,
   "metadata": {},
   "outputs": [
    {
     "data": {
      "text/html": [
       "<div>\n",
       "<style scoped>\n",
       "    .dataframe tbody tr th:only-of-type {\n",
       "        vertical-align: middle;\n",
       "    }\n",
       "\n",
       "    .dataframe tbody tr th {\n",
       "        vertical-align: top;\n",
       "    }\n",
       "\n",
       "    .dataframe thead th {\n",
       "        text-align: right;\n",
       "    }\n",
       "</style>\n",
       "<table border=\"1\" class=\"dataframe\">\n",
       "  <thead>\n",
       "    <tr style=\"text-align: right;\">\n",
       "      <th></th>\n",
       "      <th>province_name</th>\n",
       "      <th>2016</th>\n",
       "      <th>2017</th>\n",
       "      <th>2018</th>\n",
       "    </tr>\n",
       "    <tr>\n",
       "      <th>province</th>\n",
       "      <th></th>\n",
       "      <th></th>\n",
       "      <th></th>\n",
       "      <th></th>\n",
       "    </tr>\n",
       "  </thead>\n",
       "  <tbody>\n",
       "    <tr>\n",
       "      <th>NL</th>\n",
       "      <td>Newfoundland and Labrador</td>\n",
       "      <td>724</td>\n",
       "      <td>734</td>\n",
       "      <td>750</td>\n",
       "    </tr>\n",
       "    <tr>\n",
       "      <th>PE</th>\n",
       "      <td>Prince Edward Island</td>\n",
       "      <td>584</td>\n",
       "      <td>601</td>\n",
       "      <td>638</td>\n",
       "    </tr>\n",
       "    <tr>\n",
       "      <th>NS</th>\n",
       "      <td>Nova Scotia</td>\n",
       "      <td>3060</td>\n",
       "      <td>3138</td>\n",
       "      <td>3201</td>\n",
       "    </tr>\n",
       "    <tr>\n",
       "      <th>NB</th>\n",
       "      <td>New Brunswick</td>\n",
       "      <td>2741</td>\n",
       "      <td>2814</td>\n",
       "      <td>2956</td>\n",
       "    </tr>\n",
       "    <tr>\n",
       "      <th>QC</th>\n",
       "      <td>Quebec</td>\n",
       "      <td>21372</td>\n",
       "      <td>22720</td>\n",
       "      <td>23749</td>\n",
       "    </tr>\n",
       "  </tbody>\n",
       "</table>\n",
       "</div>"
      ],
      "text/plain": [
       "                      province_name   2016   2017   2018\n",
       "province                                                \n",
       "NL        Newfoundland and Labrador    724    734    750\n",
       "PE             Prince Edward Island    584    601    638\n",
       "NS                      Nova Scotia   3060   3138   3201\n",
       "NB                    New Brunswick   2741   2814   2956\n",
       "QC                           Quebec  21372  22720  23749"
      ]
     },
     "execution_count": 20,
     "metadata": {},
     "output_type": "execute_result"
    }
   ],
   "source": [
    "# first 5 rows of the DataFrame\n",
    "prov_support.head()"
   ]
  },
  {
   "cell_type": "markdown",
   "metadata": {},
   "source": [
    "## tail()"
   ]
  },
  {
   "cell_type": "code",
   "execution_count": 21,
   "metadata": {},
   "outputs": [
    {
     "data": {
      "text/html": [
       "<div>\n",
       "<style scoped>\n",
       "    .dataframe tbody tr th:only-of-type {\n",
       "        vertical-align: middle;\n",
       "    }\n",
       "\n",
       "    .dataframe tbody tr th {\n",
       "        vertical-align: top;\n",
       "    }\n",
       "\n",
       "    .dataframe thead th {\n",
       "        text-align: right;\n",
       "    }\n",
       "</style>\n",
       "<table border=\"1\" class=\"dataframe\">\n",
       "  <thead>\n",
       "    <tr style=\"text-align: right;\">\n",
       "      <th></th>\n",
       "      <th>province_name</th>\n",
       "      <th>2016</th>\n",
       "      <th>2017</th>\n",
       "      <th>2018</th>\n",
       "    </tr>\n",
       "    <tr>\n",
       "      <th>province</th>\n",
       "      <th></th>\n",
       "      <th></th>\n",
       "      <th></th>\n",
       "      <th></th>\n",
       "    </tr>\n",
       "  </thead>\n",
       "  <tbody>\n",
       "    <tr>\n",
       "      <th>AB</th>\n",
       "      <td>Alberta</td>\n",
       "      <td>5772</td>\n",
       "      <td>5943</td>\n",
       "      <td>6157</td>\n",
       "    </tr>\n",
       "    <tr>\n",
       "      <th>BC</th>\n",
       "      <td>British Columbia</td>\n",
       "      <td>6482</td>\n",
       "      <td>6680</td>\n",
       "      <td>6925</td>\n",
       "    </tr>\n",
       "    <tr>\n",
       "      <th>YT</th>\n",
       "      <td>Yukon</td>\n",
       "      <td>946</td>\n",
       "      <td>973</td>\n",
       "      <td>1006</td>\n",
       "    </tr>\n",
       "    <tr>\n",
       "      <th>NT</th>\n",
       "      <td>Northwest Territories</td>\n",
       "      <td>1281</td>\n",
       "      <td>1294</td>\n",
       "      <td>1319</td>\n",
       "    </tr>\n",
       "    <tr>\n",
       "      <th>NU</th>\n",
       "      <td>Nunavut</td>\n",
       "      <td>1539</td>\n",
       "      <td>1583</td>\n",
       "      <td>1634</td>\n",
       "    </tr>\n",
       "  </tbody>\n",
       "</table>\n",
       "</div>"
      ],
      "text/plain": [
       "                  province_name  2016  2017  2018\n",
       "province                                         \n",
       "AB                      Alberta  5772  5943  6157\n",
       "BC             British Columbia  6482  6680  6925\n",
       "YT                        Yukon   946   973  1006\n",
       "NT        Northwest Territories  1281  1294  1319\n",
       "NU                      Nunavut  1539  1583  1634"
      ]
     },
     "execution_count": 21,
     "metadata": {},
     "output_type": "execute_result"
    }
   ],
   "source": [
    "# last 5 rows\n",
    "prov_support.tail()"
   ]
  },
  {
   "cell_type": "code",
   "execution_count": 23,
   "metadata": {},
   "outputs": [
    {
     "data": {
      "text/html": [
       "<div>\n",
       "<style scoped>\n",
       "    .dataframe tbody tr th:only-of-type {\n",
       "        vertical-align: middle;\n",
       "    }\n",
       "\n",
       "    .dataframe tbody tr th {\n",
       "        vertical-align: top;\n",
       "    }\n",
       "\n",
       "    .dataframe thead th {\n",
       "        text-align: right;\n",
       "    }\n",
       "</style>\n",
       "<table border=\"1\" class=\"dataframe\">\n",
       "  <thead>\n",
       "    <tr style=\"text-align: right;\">\n",
       "      <th></th>\n",
       "      <th>province_name</th>\n",
       "      <th>2016</th>\n",
       "      <th>2017</th>\n",
       "      <th>2018</th>\n",
       "    </tr>\n",
       "    <tr>\n",
       "      <th>province</th>\n",
       "      <th></th>\n",
       "      <th></th>\n",
       "      <th></th>\n",
       "      <th></th>\n",
       "    </tr>\n",
       "  </thead>\n",
       "  <tbody>\n",
       "    <tr>\n",
       "      <th>NL</th>\n",
       "      <td>Newfoundland and Labrador</td>\n",
       "      <td>724</td>\n",
       "      <td>734</td>\n",
       "      <td>750</td>\n",
       "    </tr>\n",
       "    <tr>\n",
       "      <th>PE</th>\n",
       "      <td>Prince Edward Island</td>\n",
       "      <td>584</td>\n",
       "      <td>601</td>\n",
       "      <td>638</td>\n",
       "    </tr>\n",
       "    <tr>\n",
       "      <th>NS</th>\n",
       "      <td>Nova Scotia</td>\n",
       "      <td>3060</td>\n",
       "      <td>3138</td>\n",
       "      <td>3201</td>\n",
       "    </tr>\n",
       "  </tbody>\n",
       "</table>\n",
       "</div>"
      ],
      "text/plain": [
       "                      province_name  2016  2017  2018\n",
       "province                                             \n",
       "NL        Newfoundland and Labrador   724   734   750\n",
       "PE             Prince Edward Island   584   601   638\n",
       "NS                      Nova Scotia  3060  3138  3201"
      ]
     },
     "execution_count": 23,
     "metadata": {},
     "output_type": "execute_result"
    }
   ],
   "source": [
    "prov_support.head(3)"
   ]
  },
  {
   "cell_type": "markdown",
   "metadata": {},
   "source": [
    "## Axes and indices\n",
    "\n",
    "An important concept used in pandas is DataFrame axes. In a DataFrame, axes are indexes where axis=0 is the rows index, and axis=1 is the full set of column names.\n",
    "\n",
    "**NOTE:** `Series` have only one axis and it is a row axis."
   ]
  },
  {
   "cell_type": "code",
   "execution_count": 24,
   "metadata": {},
   "outputs": [
    {
     "data": {
      "text/plain": [
       "(13, 4)"
      ]
     },
     "execution_count": 24,
     "metadata": {},
     "output_type": "execute_result"
    }
   ],
   "source": [
    "prov_support.shape"
   ]
  },
  {
   "cell_type": "code",
   "execution_count": 25,
   "metadata": {},
   "outputs": [
    {
     "data": {
      "text/plain": [
       "Index(['province_name', '2016', '2017', '2018'], dtype='object')"
      ]
     },
     "execution_count": 25,
     "metadata": {},
     "output_type": "execute_result"
    }
   ],
   "source": [
    "prov_support.columns"
   ]
  },
  {
   "cell_type": "code",
   "execution_count": 26,
   "metadata": {},
   "outputs": [
    {
     "data": {
      "text/plain": [
       "Index(['NL', 'PE', 'NS', 'NB', 'QC', 'ON', 'MB', 'SK', 'AB', 'BC', 'YT', 'NT',\n",
       "       'NU'],\n",
       "      dtype='object', name='province')"
      ]
     },
     "execution_count": 26,
     "metadata": {},
     "output_type": "execute_result"
    }
   ],
   "source": [
    "prov_support.index"
   ]
  },
  {
   "cell_type": "code",
   "execution_count": 27,
   "metadata": {},
   "outputs": [
    {
     "data": {
      "text/plain": [
       "[Index(['NL', 'PE', 'NS', 'NB', 'QC', 'ON', 'MB', 'SK', 'AB', 'BC', 'YT', 'NT',\n",
       "        'NU'],\n",
       "       dtype='object', name='province'),\n",
       " Index(['province_name', '2016', '2017', '2018'], dtype='object')]"
      ]
     },
     "execution_count": 27,
     "metadata": {},
     "output_type": "execute_result"
    }
   ],
   "source": [
    "prov_support.axes # returns both axes, the rows index (axis=0) first, then column names (axis=1)."
   ]
  },
  {
   "cell_type": "markdown",
   "metadata": {},
   "source": [
    "## sort_index( )"
   ]
  },
  {
   "cell_type": "code",
   "execution_count": null,
   "metadata": {},
   "outputs": [],
   "source": [
    "prov_support.sort_index(axis=0, ascending=True) # The default order is ascending"
   ]
  },
  {
   "cell_type": "code",
   "execution_count": null,
   "metadata": {},
   "outputs": [],
   "source": [
    "prov_support.sort_index(axis=1, ascending=True)"
   ]
  },
  {
   "cell_type": "markdown",
   "metadata": {},
   "source": [
    "# type( )\n",
    "\n",
    "Indexes are of pandas Index object type:"
   ]
  },
  {
   "cell_type": "code",
   "execution_count": 29,
   "metadata": {},
   "outputs": [
    {
     "data": {
      "text/plain": [
       "pandas.core.indexes.base.Index"
      ]
     },
     "execution_count": 29,
     "metadata": {},
     "output_type": "execute_result"
    }
   ],
   "source": [
    "obj1 = prov_support.index\n",
    "\n",
    "type(obj1)"
   ]
  },
  {
   "cell_type": "code",
   "execution_count": 30,
   "metadata": {},
   "outputs": [
    {
     "data": {
      "text/plain": [
       "pandas.core.indexes.base.Index"
      ]
     },
     "execution_count": 30,
     "metadata": {},
     "output_type": "execute_result"
    }
   ],
   "source": [
    "obj2 = prov_support.columns\n",
    "\n",
    "type(obj2)"
   ]
  },
  {
   "cell_type": "code",
   "execution_count": 31,
   "metadata": {},
   "outputs": [
    {
     "name": "stdout",
     "output_type": "stream",
     "text": [
      "Index(['NL', 'PE', 'NS', 'NB', 'QC', 'ON', 'MB', 'SK', 'AB', 'BC', 'YT', 'NT',\n",
      "       'NU'],\n",
      "      dtype='object', name='province')\n",
      "Index(['province_name', '2016', '2017', '2018'], dtype='object')\n"
     ]
    }
   ],
   "source": [
    "print(obj1); print(obj2)"
   ]
  },
  {
   "cell_type": "markdown",
   "metadata": {},
   "source": [
    "# Hierarchical indexes in DataFrames"
   ]
  },
  {
   "cell_type": "code",
   "execution_count": 32,
   "metadata": {},
   "outputs": [
    {
     "data": {
      "text/html": [
       "<div>\n",
       "<style scoped>\n",
       "    .dataframe tbody tr th:only-of-type {\n",
       "        vertical-align: middle;\n",
       "    }\n",
       "\n",
       "    .dataframe tbody tr th {\n",
       "        vertical-align: top;\n",
       "    }\n",
       "\n",
       "    .dataframe thead th {\n",
       "        text-align: right;\n",
       "    }\n",
       "</style>\n",
       "<table border=\"1\" class=\"dataframe\">\n",
       "  <thead>\n",
       "    <tr style=\"text-align: right;\">\n",
       "      <th></th>\n",
       "      <th></th>\n",
       "      <th>Data</th>\n",
       "    </tr>\n",
       "  </thead>\n",
       "  <tbody>\n",
       "    <tr>\n",
       "      <th rowspan=\"2\" valign=\"top\">a</th>\n",
       "      <th>x</th>\n",
       "      <td>4</td>\n",
       "    </tr>\n",
       "    <tr>\n",
       "      <th>y</th>\n",
       "      <td>7</td>\n",
       "    </tr>\n",
       "    <tr>\n",
       "      <th rowspan=\"2\" valign=\"top\">b</th>\n",
       "      <th>x</th>\n",
       "      <td>2</td>\n",
       "    </tr>\n",
       "    <tr>\n",
       "      <th>y</th>\n",
       "      <td>5</td>\n",
       "    </tr>\n",
       "    <tr>\n",
       "      <th>a</th>\n",
       "      <th>x</th>\n",
       "      <td>6</td>\n",
       "    </tr>\n",
       "  </tbody>\n",
       "</table>\n",
       "</div>"
      ],
      "text/plain": [
       "     Data\n",
       "a x     4\n",
       "  y     7\n",
       "b x     2\n",
       "  y     5\n",
       "a x     6"
      ]
     },
     "execution_count": 32,
     "metadata": {},
     "output_type": "execute_result"
    }
   ],
   "source": [
    "df_hierarch = pd.DataFrame(data=[4, 7, 2, 5, 6],\n",
    "                           columns=['Data'],\n",
    "                           index=\n",
    "                           [['a', 'a', 'b', 'b', 'a'],\n",
    "                            ['x', 'y', 'x', 'y', 'x']])\n",
    "\n",
    "df_hierarch"
   ]
  },
  {
   "cell_type": "code",
   "execution_count": 35,
   "metadata": {},
   "outputs": [
    {
     "data": {
      "text/plain": [
       "MultiIndex([('a', 'x'),\n",
       "            ('a', 'y'),\n",
       "            ('b', 'x'),\n",
       "            ('b', 'y'),\n",
       "            ('a', 'x')],\n",
       "           )"
      ]
     },
     "execution_count": 35,
     "metadata": {},
     "output_type": "execute_result"
    }
   ],
   "source": [
    "df_hierarch.index"
   ]
  }
 ],
 "metadata": {
  "kernelspec": {
   "display_name": "Python 3",
   "language": "python",
   "name": "python3"
  },
  "language_info": {
   "codemirror_mode": {
    "name": "ipython",
    "version": 3
   },
   "file_extension": ".py",
   "mimetype": "text/x-python",
   "name": "python",
   "nbconvert_exporter": "python",
   "pygments_lexer": "ipython3",
   "version": "3.12.1"
  }
 },
 "nbformat": 4,
 "nbformat_minor": 2
}
