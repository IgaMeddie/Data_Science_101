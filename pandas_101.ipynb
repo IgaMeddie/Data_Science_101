{
 "cells": [
  {
   "cell_type": "code",
   "execution_count": null,
   "metadata": {},
   "outputs": [],
   "source": [
    "import pandas as pd"
   ]
  },
  {
   "cell_type": "markdown",
   "metadata": {},
   "source": [
    "# Series \n",
    "\n",
    "A pandas Series is a one-dimensional array that can hold indexed data of any type (integers, strings, floating point numbers, Python objects, etc.). Series can be created using:\n",
    "\n",
    "🔸Python dictionaries\n",
    "🔸NumPy ndarrays\n",
    "🔸Scalar values\n",
    "🔸Lists"
   ]
  },
  {
   "cell_type": "code",
   "execution_count": 4,
   "metadata": {},
   "outputs": [
    {
     "name": "stdout",
     "output_type": "stream",
     "text": [
      "0     45\n",
      "1    123\n",
      "2     67\n",
      "3      1\n",
      "4     14\n",
      "dtype: int64\n",
      "<class 'pandas.core.series.Series'>\n"
     ]
    }
   ],
   "source": [
    "# Create a pandas Series using a list\n",
    "\n",
    "list_ser = [45, 123, 67, 1, 14]\n",
    "\n",
    "serA = pd.Series(list_ser)\n",
    "\n",
    "print(serA) # The default index in pandas always starts with 0 (zero).\n",
    "\n",
    "print(type(serA))"
   ]
  },
  {
   "cell_type": "code",
   "execution_count": 5,
   "metadata": {},
   "outputs": [
    {
     "data": {
      "text/plain": [
       "RangeIndex(start=0, stop=5, step=1)"
      ]
     },
     "execution_count": 5,
     "metadata": {},
     "output_type": "execute_result"
    }
   ],
   "source": [
    "serA.index # inspect index"
   ]
  },
  {
   "cell_type": "markdown",
   "metadata": {},
   "source": [
    "a_given_pandas.values\n",
    "\n",
    "In pandas, when you create a Series with an index of strings, the dtype of the index is typically represented as 'object'. This is because pandas uses the NumPy library for underlying data structures, and NumPy does not have a specific data type for strings. Instead, it uses the generic 'object' data type to represent any arbitrary Python object, including strings.\n",
    "\n",
    "Even though the index values look like strings and are indeed strings in this case, pandas internally represents them as objects due to the limitations of NumPy's dtype system.\n",
    "\n",
    "Therefore, when you see dtype='object' in the output of print(serB.index), it indicates that the index data type is a generic Python object type, which is used to accommodate the string values of the index. This is a common representation for indexes with string values in pandas."
   ]
  },
  {
   "cell_type": "code",
   "execution_count": 13,
   "metadata": {},
   "outputs": [
    {
     "name": "stdout",
     "output_type": "stream",
     "text": [
      "Num1     45.0\n",
      "Num2    123.0\n",
      "Num3     67.0\n",
      "Num4      1.0\n",
      "Num5     14.0\n",
      "Name: Numbers, dtype: float64\n",
      "Index(['Num1', 'Num2', 'Num3', 'Num4', 'Num5'], dtype='object')\n"
     ]
    },
    {
     "data": {
      "text/plain": [
       "array([ 45., 123.,  67.,   1.,  14.])"
      ]
     },
     "execution_count": 13,
     "metadata": {},
     "output_type": "execute_result"
    }
   ],
   "source": [
    "# create a Series using the same list as above, but define the index, data type and Series name:\n",
    "serB = pd.Series(list_ser,\n",
    "                 index=['Num1', 'Num2', 'Num3', 'Num4', 'Num5'], # indices can be strings\n",
    "                 dtype= 'float',\n",
    "                 name= 'Numbers') \n",
    "\n",
    "print(serB)\n",
    "print(serB.index)\n",
    "serB.values"
   ]
  }
 ],
 "metadata": {
  "kernelspec": {
   "display_name": "Python 3",
   "language": "python",
   "name": "python3"
  },
  "language_info": {
   "codemirror_mode": {
    "name": "ipython",
    "version": 3
   },
   "file_extension": ".py",
   "mimetype": "text/x-python",
   "name": "python",
   "nbconvert_exporter": "python",
   "pygments_lexer": "ipython3",
   "version": "3.12.1"
  }
 },
 "nbformat": 4,
 "nbformat_minor": 2
}
